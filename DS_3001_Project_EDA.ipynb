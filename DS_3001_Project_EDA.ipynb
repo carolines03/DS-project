{
  "nbformat": 4,
  "nbformat_minor": 0,
  "metadata": {
    "colab": {
      "provenance": [],
      "include_colab_link": true
    },
    "kernelspec": {
      "name": "python3",
      "display_name": "Python 3"
    },
    "language_info": {
      "name": "python"
    }
  },
  "cells": [
    {
      "cell_type": "markdown",
      "metadata": {
        "id": "view-in-github",
        "colab_type": "text"
      },
      "source": [
        "<a href=\"https://colab.research.google.com/github/carolines03/DS-project/blob/main/DS_3001_Project_EDA.ipynb\" target=\"_parent\"><img src=\"https://colab.research.google.com/assets/colab-badge.svg\" alt=\"Open In Colab\"/></a>"
      ]
    },
    {
      "cell_type": "markdown",
      "source": [
        "#Data Wrangling/EDA#\n",
        "\n",
        "If you have clean data, write up the key variables and make some plots and descriptive statistics tables. If you have some but not all of the data, do some work on what you do have and explain how the pieces are going to fit together. If the data aren't available yet, write up what you expect to get and what challenges you expect to face in cleaning and preparing it for analysis."
      ],
      "metadata": {
        "id": "Ev0L6oRAUEBE"
      }
    },
    {
      "cell_type": "code",
      "execution_count": null,
      "metadata": {
        "id": "4mZw75xtT11-"
      },
      "outputs": [],
      "source": [
        "import pandas as pd\n",
        "import numpy as np\n",
        "import matplotlib.pyplot as plt\n",
        "import seaborn as sns"
      ]
    },
    {
      "cell_type": "code",
      "source": [
        "df = pd.read_csv('/content/voting_VA.csv', low_memory=False)\n",
        "print(df.shape, '\\n')\n",
        "print(df.dtypes, '\\n')\n",
        "print(df.columns, '\\n')\n",
        "df.head()"
      ],
      "metadata": {
        "colab": {
          "base_uri": "https://localhost:8080/",
          "height": 723
        },
        "id": "qnDWIDiBVnLx",
        "outputId": "782f25cc-af28-47c6-be18-7a576768a973"
      },
      "execution_count": null,
      "outputs": [
        {
          "output_type": "stream",
          "name": "stdout",
          "text": [
            "(3736, 13) \n",
            "\n",
            "Unnamed: 0         int64\n",
            "year               int64\n",
            "state             object\n",
            "state_po          object\n",
            "county_name       object\n",
            "county_fips        int64\n",
            "office            object\n",
            "candidate         object\n",
            "party             object\n",
            "candidatevotes     int64\n",
            "totalvotes         int64\n",
            "version            int64\n",
            "mode              object\n",
            "dtype: object \n",
            "\n",
            "Index(['Unnamed: 0', 'year', 'state', 'state_po', 'county_name', 'county_fips',\n",
            "       'office', 'candidate', 'party', 'candidatevotes', 'totalvotes',\n",
            "       'version', 'mode'],\n",
            "      dtype='object') \n",
            "\n"
          ]
        },
        {
          "output_type": "execute_result",
          "data": {
            "text/plain": [
              "   Unnamed: 0  year     state state_po county_name  county_fips        office  \\\n",
              "0       11161  2000  VIRGINIA       VA    ACCOMACK        51001  US PRESIDENT   \n",
              "1       11162  2000  VIRGINIA       VA    ACCOMACK        51001  US PRESIDENT   \n",
              "2       11163  2000  VIRGINIA       VA    ACCOMACK        51001  US PRESIDENT   \n",
              "3       11164  2000  VIRGINIA       VA    ACCOMACK        51001  US PRESIDENT   \n",
              "4       11165  2000  VIRGINIA       VA   ALBEMARLE        51003  US PRESIDENT   \n",
              "\n",
              "        candidate       party  candidatevotes  totalvotes   version   mode  \n",
              "0         AL GORE    DEMOCRAT            5092       11925  20220315  TOTAL  \n",
              "1  GEORGE W. BUSH  REPUBLICAN            6352       11925  20220315  TOTAL  \n",
              "2     RALPH NADER       GREEN             220       11925  20220315  TOTAL  \n",
              "3           OTHER       OTHER             261       11925  20220315  TOTAL  \n",
              "4         AL GORE    DEMOCRAT           16255       36846  20220315  TOTAL  "
            ],
            "text/html": [
              "\n",
              "  <div id=\"df-85f64296-7b27-45eb-bd00-0dfdefd70030\" class=\"colab-df-container\">\n",
              "    <div>\n",
              "<style scoped>\n",
              "    .dataframe tbody tr th:only-of-type {\n",
              "        vertical-align: middle;\n",
              "    }\n",
              "\n",
              "    .dataframe tbody tr th {\n",
              "        vertical-align: top;\n",
              "    }\n",
              "\n",
              "    .dataframe thead th {\n",
              "        text-align: right;\n",
              "    }\n",
              "</style>\n",
              "<table border=\"1\" class=\"dataframe\">\n",
              "  <thead>\n",
              "    <tr style=\"text-align: right;\">\n",
              "      <th></th>\n",
              "      <th>Unnamed: 0</th>\n",
              "      <th>year</th>\n",
              "      <th>state</th>\n",
              "      <th>state_po</th>\n",
              "      <th>county_name</th>\n",
              "      <th>county_fips</th>\n",
              "      <th>office</th>\n",
              "      <th>candidate</th>\n",
              "      <th>party</th>\n",
              "      <th>candidatevotes</th>\n",
              "      <th>totalvotes</th>\n",
              "      <th>version</th>\n",
              "      <th>mode</th>\n",
              "    </tr>\n",
              "  </thead>\n",
              "  <tbody>\n",
              "    <tr>\n",
              "      <th>0</th>\n",
              "      <td>11161</td>\n",
              "      <td>2000</td>\n",
              "      <td>VIRGINIA</td>\n",
              "      <td>VA</td>\n",
              "      <td>ACCOMACK</td>\n",
              "      <td>51001</td>\n",
              "      <td>US PRESIDENT</td>\n",
              "      <td>AL GORE</td>\n",
              "      <td>DEMOCRAT</td>\n",
              "      <td>5092</td>\n",
              "      <td>11925</td>\n",
              "      <td>20220315</td>\n",
              "      <td>TOTAL</td>\n",
              "    </tr>\n",
              "    <tr>\n",
              "      <th>1</th>\n",
              "      <td>11162</td>\n",
              "      <td>2000</td>\n",
              "      <td>VIRGINIA</td>\n",
              "      <td>VA</td>\n",
              "      <td>ACCOMACK</td>\n",
              "      <td>51001</td>\n",
              "      <td>US PRESIDENT</td>\n",
              "      <td>GEORGE W. BUSH</td>\n",
              "      <td>REPUBLICAN</td>\n",
              "      <td>6352</td>\n",
              "      <td>11925</td>\n",
              "      <td>20220315</td>\n",
              "      <td>TOTAL</td>\n",
              "    </tr>\n",
              "    <tr>\n",
              "      <th>2</th>\n",
              "      <td>11163</td>\n",
              "      <td>2000</td>\n",
              "      <td>VIRGINIA</td>\n",
              "      <td>VA</td>\n",
              "      <td>ACCOMACK</td>\n",
              "      <td>51001</td>\n",
              "      <td>US PRESIDENT</td>\n",
              "      <td>RALPH NADER</td>\n",
              "      <td>GREEN</td>\n",
              "      <td>220</td>\n",
              "      <td>11925</td>\n",
              "      <td>20220315</td>\n",
              "      <td>TOTAL</td>\n",
              "    </tr>\n",
              "    <tr>\n",
              "      <th>3</th>\n",
              "      <td>11164</td>\n",
              "      <td>2000</td>\n",
              "      <td>VIRGINIA</td>\n",
              "      <td>VA</td>\n",
              "      <td>ACCOMACK</td>\n",
              "      <td>51001</td>\n",
              "      <td>US PRESIDENT</td>\n",
              "      <td>OTHER</td>\n",
              "      <td>OTHER</td>\n",
              "      <td>261</td>\n",
              "      <td>11925</td>\n",
              "      <td>20220315</td>\n",
              "      <td>TOTAL</td>\n",
              "    </tr>\n",
              "    <tr>\n",
              "      <th>4</th>\n",
              "      <td>11165</td>\n",
              "      <td>2000</td>\n",
              "      <td>VIRGINIA</td>\n",
              "      <td>VA</td>\n",
              "      <td>ALBEMARLE</td>\n",
              "      <td>51003</td>\n",
              "      <td>US PRESIDENT</td>\n",
              "      <td>AL GORE</td>\n",
              "      <td>DEMOCRAT</td>\n",
              "      <td>16255</td>\n",
              "      <td>36846</td>\n",
              "      <td>20220315</td>\n",
              "      <td>TOTAL</td>\n",
              "    </tr>\n",
              "  </tbody>\n",
              "</table>\n",
              "</div>\n",
              "    <div class=\"colab-df-buttons\">\n",
              "\n",
              "  <div class=\"colab-df-container\">\n",
              "    <button class=\"colab-df-convert\" onclick=\"convertToInteractive('df-85f64296-7b27-45eb-bd00-0dfdefd70030')\"\n",
              "            title=\"Convert this dataframe to an interactive table.\"\n",
              "            style=\"display:none;\">\n",
              "\n",
              "  <svg xmlns=\"http://www.w3.org/2000/svg\" height=\"24px\" viewBox=\"0 -960 960 960\">\n",
              "    <path d=\"M120-120v-720h720v720H120Zm60-500h600v-160H180v160Zm220 220h160v-160H400v160Zm0 220h160v-160H400v160ZM180-400h160v-160H180v160Zm440 0h160v-160H620v160ZM180-180h160v-160H180v160Zm440 0h160v-160H620v160Z\"/>\n",
              "  </svg>\n",
              "    </button>\n",
              "\n",
              "  <style>\n",
              "    .colab-df-container {\n",
              "      display:flex;\n",
              "      gap: 12px;\n",
              "    }\n",
              "\n",
              "    .colab-df-convert {\n",
              "      background-color: #E8F0FE;\n",
              "      border: none;\n",
              "      border-radius: 50%;\n",
              "      cursor: pointer;\n",
              "      display: none;\n",
              "      fill: #1967D2;\n",
              "      height: 32px;\n",
              "      padding: 0 0 0 0;\n",
              "      width: 32px;\n",
              "    }\n",
              "\n",
              "    .colab-df-convert:hover {\n",
              "      background-color: #E2EBFA;\n",
              "      box-shadow: 0px 1px 2px rgba(60, 64, 67, 0.3), 0px 1px 3px 1px rgba(60, 64, 67, 0.15);\n",
              "      fill: #174EA6;\n",
              "    }\n",
              "\n",
              "    .colab-df-buttons div {\n",
              "      margin-bottom: 4px;\n",
              "    }\n",
              "\n",
              "    [theme=dark] .colab-df-convert {\n",
              "      background-color: #3B4455;\n",
              "      fill: #D2E3FC;\n",
              "    }\n",
              "\n",
              "    [theme=dark] .colab-df-convert:hover {\n",
              "      background-color: #434B5C;\n",
              "      box-shadow: 0px 1px 3px 1px rgba(0, 0, 0, 0.15);\n",
              "      filter: drop-shadow(0px 1px 2px rgba(0, 0, 0, 0.3));\n",
              "      fill: #FFFFFF;\n",
              "    }\n",
              "  </style>\n",
              "\n",
              "    <script>\n",
              "      const buttonEl =\n",
              "        document.querySelector('#df-85f64296-7b27-45eb-bd00-0dfdefd70030 button.colab-df-convert');\n",
              "      buttonEl.style.display =\n",
              "        google.colab.kernel.accessAllowed ? 'block' : 'none';\n",
              "\n",
              "      async function convertToInteractive(key) {\n",
              "        const element = document.querySelector('#df-85f64296-7b27-45eb-bd00-0dfdefd70030');\n",
              "        const dataTable =\n",
              "          await google.colab.kernel.invokeFunction('convertToInteractive',\n",
              "                                                    [key], {});\n",
              "        if (!dataTable) return;\n",
              "\n",
              "        const docLinkHtml = 'Like what you see? Visit the ' +\n",
              "          '<a target=\"_blank\" href=https://colab.research.google.com/notebooks/data_table.ipynb>data table notebook</a>'\n",
              "          + ' to learn more about interactive tables.';\n",
              "        element.innerHTML = '';\n",
              "        dataTable['output_type'] = 'display_data';\n",
              "        await google.colab.output.renderOutput(dataTable, element);\n",
              "        const docLink = document.createElement('div');\n",
              "        docLink.innerHTML = docLinkHtml;\n",
              "        element.appendChild(docLink);\n",
              "      }\n",
              "    </script>\n",
              "  </div>\n",
              "\n",
              "\n",
              "<div id=\"df-3c84ccb4-9aac-46d1-a453-77d82a6fc54a\">\n",
              "  <button class=\"colab-df-quickchart\" onclick=\"quickchart('df-3c84ccb4-9aac-46d1-a453-77d82a6fc54a')\"\n",
              "            title=\"Suggest charts\"\n",
              "            style=\"display:none;\">\n",
              "\n",
              "<svg xmlns=\"http://www.w3.org/2000/svg\" height=\"24px\"viewBox=\"0 0 24 24\"\n",
              "     width=\"24px\">\n",
              "    <g>\n",
              "        <path d=\"M19 3H5c-1.1 0-2 .9-2 2v14c0 1.1.9 2 2 2h14c1.1 0 2-.9 2-2V5c0-1.1-.9-2-2-2zM9 17H7v-7h2v7zm4 0h-2V7h2v10zm4 0h-2v-4h2v4z\"/>\n",
              "    </g>\n",
              "</svg>\n",
              "  </button>\n",
              "\n",
              "<style>\n",
              "  .colab-df-quickchart {\n",
              "      --bg-color: #E8F0FE;\n",
              "      --fill-color: #1967D2;\n",
              "      --hover-bg-color: #E2EBFA;\n",
              "      --hover-fill-color: #174EA6;\n",
              "      --disabled-fill-color: #AAA;\n",
              "      --disabled-bg-color: #DDD;\n",
              "  }\n",
              "\n",
              "  [theme=dark] .colab-df-quickchart {\n",
              "      --bg-color: #3B4455;\n",
              "      --fill-color: #D2E3FC;\n",
              "      --hover-bg-color: #434B5C;\n",
              "      --hover-fill-color: #FFFFFF;\n",
              "      --disabled-bg-color: #3B4455;\n",
              "      --disabled-fill-color: #666;\n",
              "  }\n",
              "\n",
              "  .colab-df-quickchart {\n",
              "    background-color: var(--bg-color);\n",
              "    border: none;\n",
              "    border-radius: 50%;\n",
              "    cursor: pointer;\n",
              "    display: none;\n",
              "    fill: var(--fill-color);\n",
              "    height: 32px;\n",
              "    padding: 0;\n",
              "    width: 32px;\n",
              "  }\n",
              "\n",
              "  .colab-df-quickchart:hover {\n",
              "    background-color: var(--hover-bg-color);\n",
              "    box-shadow: 0 1px 2px rgba(60, 64, 67, 0.3), 0 1px 3px 1px rgba(60, 64, 67, 0.15);\n",
              "    fill: var(--button-hover-fill-color);\n",
              "  }\n",
              "\n",
              "  .colab-df-quickchart-complete:disabled,\n",
              "  .colab-df-quickchart-complete:disabled:hover {\n",
              "    background-color: var(--disabled-bg-color);\n",
              "    fill: var(--disabled-fill-color);\n",
              "    box-shadow: none;\n",
              "  }\n",
              "\n",
              "  .colab-df-spinner {\n",
              "    border: 2px solid var(--fill-color);\n",
              "    border-color: transparent;\n",
              "    border-bottom-color: var(--fill-color);\n",
              "    animation:\n",
              "      spin 1s steps(1) infinite;\n",
              "  }\n",
              "\n",
              "  @keyframes spin {\n",
              "    0% {\n",
              "      border-color: transparent;\n",
              "      border-bottom-color: var(--fill-color);\n",
              "      border-left-color: var(--fill-color);\n",
              "    }\n",
              "    20% {\n",
              "      border-color: transparent;\n",
              "      border-left-color: var(--fill-color);\n",
              "      border-top-color: var(--fill-color);\n",
              "    }\n",
              "    30% {\n",
              "      border-color: transparent;\n",
              "      border-left-color: var(--fill-color);\n",
              "      border-top-color: var(--fill-color);\n",
              "      border-right-color: var(--fill-color);\n",
              "    }\n",
              "    40% {\n",
              "      border-color: transparent;\n",
              "      border-right-color: var(--fill-color);\n",
              "      border-top-color: var(--fill-color);\n",
              "    }\n",
              "    60% {\n",
              "      border-color: transparent;\n",
              "      border-right-color: var(--fill-color);\n",
              "    }\n",
              "    80% {\n",
              "      border-color: transparent;\n",
              "      border-right-color: var(--fill-color);\n",
              "      border-bottom-color: var(--fill-color);\n",
              "    }\n",
              "    90% {\n",
              "      border-color: transparent;\n",
              "      border-bottom-color: var(--fill-color);\n",
              "    }\n",
              "  }\n",
              "</style>\n",
              "\n",
              "  <script>\n",
              "    async function quickchart(key) {\n",
              "      const quickchartButtonEl =\n",
              "        document.querySelector('#' + key + ' button');\n",
              "      quickchartButtonEl.disabled = true;  // To prevent multiple clicks.\n",
              "      quickchartButtonEl.classList.add('colab-df-spinner');\n",
              "      try {\n",
              "        const charts = await google.colab.kernel.invokeFunction(\n",
              "            'suggestCharts', [key], {});\n",
              "      } catch (error) {\n",
              "        console.error('Error during call to suggestCharts:', error);\n",
              "      }\n",
              "      quickchartButtonEl.classList.remove('colab-df-spinner');\n",
              "      quickchartButtonEl.classList.add('colab-df-quickchart-complete');\n",
              "    }\n",
              "    (() => {\n",
              "      let quickchartButtonEl =\n",
              "        document.querySelector('#df-3c84ccb4-9aac-46d1-a453-77d82a6fc54a button');\n",
              "      quickchartButtonEl.style.display =\n",
              "        google.colab.kernel.accessAllowed ? 'block' : 'none';\n",
              "    })();\n",
              "  </script>\n",
              "</div>\n",
              "\n",
              "    </div>\n",
              "  </div>\n"
            ],
            "application/vnd.google.colaboratory.intrinsic+json": {
              "type": "dataframe",
              "variable_name": "df",
              "summary": "{\n  \"name\": \"df\",\n  \"rows\": 3736,\n  \"fields\": [\n    {\n      \"column\": \"Unnamed: 0\",\n      \"properties\": {\n        \"dtype\": \"number\",\n        \"std\": 23219,\n        \"min\": 11161,\n        \"max\": 71970,\n        \"num_unique_values\": 3736,\n        \"samples\": [\n          71489,\n          71623,\n          39746\n        ],\n        \"semantic_type\": \"\",\n        \"description\": \"\"\n      }\n    },\n    {\n      \"column\": \"year\",\n      \"properties\": {\n        \"dtype\": \"number\",\n        \"std\": 7,\n        \"min\": 2000,\n        \"max\": 2020,\n        \"num_unique_values\": 6,\n        \"samples\": [\n          2000,\n          2004,\n          2020\n        ],\n        \"semantic_type\": \"\",\n        \"description\": \"\"\n      }\n    },\n    {\n      \"column\": \"state\",\n      \"properties\": {\n        \"dtype\": \"category\",\n        \"num_unique_values\": 1,\n        \"samples\": [\n          \"VIRGINIA\"\n        ],\n        \"semantic_type\": \"\",\n        \"description\": \"\"\n      }\n    },\n    {\n      \"column\": \"state_po\",\n      \"properties\": {\n        \"dtype\": \"category\",\n        \"num_unique_values\": 1,\n        \"samples\": [\n          \"VA\"\n        ],\n        \"semantic_type\": \"\",\n        \"description\": \"\"\n      }\n    },\n    {\n      \"column\": \"county_name\",\n      \"properties\": {\n        \"dtype\": \"category\",\n        \"num_unique_values\": 167,\n        \"samples\": [\n          \"COVINGTON\"\n        ],\n        \"semantic_type\": \"\",\n        \"description\": \"\"\n      }\n    },\n    {\n      \"column\": \"county_fips\",\n      \"properties\": {\n        \"dtype\": \"number\",\n        \"std\": 270,\n        \"min\": 51001,\n        \"max\": 51840,\n        \"num_unique_values\": 134,\n        \"samples\": [\n          51775\n        ],\n        \"semantic_type\": \"\",\n        \"description\": \"\"\n      }\n    },\n    {\n      \"column\": \"office\",\n      \"properties\": {\n        \"dtype\": \"category\",\n        \"num_unique_values\": 1,\n        \"samples\": [\n          \"US PRESIDENT\"\n        ],\n        \"semantic_type\": \"\",\n        \"description\": \"\"\n      }\n    },\n    {\n      \"column\": \"candidate\",\n      \"properties\": {\n        \"dtype\": \"category\",\n        \"num_unique_values\": 13,\n        \"samples\": [\n          \"JO JORGENSEN\"\n        ],\n        \"semantic_type\": \"\",\n        \"description\": \"\"\n      }\n    },\n    {\n      \"column\": \"party\",\n      \"properties\": {\n        \"dtype\": \"category\",\n        \"num_unique_values\": 5,\n        \"samples\": [\n          \"REPUBLICAN\"\n        ],\n        \"semantic_type\": \"\",\n        \"description\": \"\"\n      }\n    },\n    {\n      \"column\": \"candidatevotes\",\n      \"properties\": {\n        \"dtype\": \"number\",\n        \"std\": 18452,\n        \"min\": 0,\n        \"max\": 355133,\n        \"num_unique_values\": 2226,\n        \"samples\": [\n          59\n        ],\n        \"semantic_type\": \"\",\n        \"description\": \"\"\n      }\n    },\n    {\n      \"column\": \"totalvotes\",\n      \"properties\": {\n        \"dtype\": \"number\",\n        \"std\": 58562,\n        \"min\": 0,\n        \"max\": 601243,\n        \"num_unique_values\": 796,\n        \"samples\": [\n          6178\n        ],\n        \"semantic_type\": \"\",\n        \"description\": \"\"\n      }\n    },\n    {\n      \"column\": \"version\",\n      \"properties\": {\n        \"dtype\": \"number\",\n        \"std\": 0,\n        \"min\": 20220315,\n        \"max\": 20220315,\n        \"num_unique_values\": 1,\n        \"samples\": [\n          20220315\n        ],\n        \"semantic_type\": \"\",\n        \"description\": \"\"\n      }\n    },\n    {\n      \"column\": \"mode\",\n      \"properties\": {\n        \"dtype\": \"category\",\n        \"num_unique_values\": 4,\n        \"samples\": [\n          \"ABSENTEE\"\n        ],\n        \"semantic_type\": \"\",\n        \"description\": \"\"\n      }\n    }\n  ]\n}"
            }
          },
          "metadata": {},
          "execution_count": 6
        }
      ]
    },
    {
      "cell_type": "markdown",
      "source": [
        "##Key Variables##\n",
        "- year\n",
        "- county_name / county_fips\n",
        "- party\n",
        "- candidate votes\n",
        "- total votes\n",
        "- mode\n",
        "\n",
        "Mode is an important variable because although the only category for it is 'TOTAL' for all years up until 2020, the mode splits into 3 categories during the 2020 election. These categories are 'ELECTION DAY', 'ABSENTEE', and 'PROVISIONAL'. This change is due to COVID. As mentioned in our write up, we plan to combine the votes for the 3 categories into one TOTAL mode for each county and candidate.\n",
        "\n",
        "We are not considering state and office key variables, as for this data set they never change. The data we are looking at is voting history for US presidential elections in Virginia. Thus, it is a given that all values for state will be VIRGINIA and all values for office will be US PRESIDENT.\n",
        "\n",
        "Most years, there are 3 categories listed for party, Democrat, Republican, and Other. Only in two instances, in 2000 and 2020, does there appear a fourth category. In 200 this is the Green Party and in 2020 there is the Libretarian Party."
      ],
      "metadata": {
        "id": "0qtdAV8QWqiy"
      }
    },
    {
      "cell_type": "code",
      "source": [
        "# Year\n",
        "print(df['year'].unique(), '\\n')\n",
        "print(df['year'].value_counts(), '\\n')\n",
        "print(df['year'].describe() , '\\n')"
      ],
      "metadata": {
        "colab": {
          "base_uri": "https://localhost:8080/"
        },
        "id": "iyCJjbvmYLi8",
        "outputId": "50533bd6-040d-4063-da35-c30dcadd9d21"
      },
      "execution_count": null,
      "outputs": [
        {
          "output_type": "stream",
          "name": "stdout",
          "text": [
            "[2000 2004 2008 2012 2016 2020] \n",
            "\n",
            "year\n",
            "2020    1592\n",
            "2000     536\n",
            "2004     402\n",
            "2008     402\n",
            "2012     402\n",
            "2016     402\n",
            "Name: count, dtype: int64 \n",
            "\n",
            "count    3736.000000\n",
            "mean     2012.826552\n",
            "std         7.589036\n",
            "min      2000.000000\n",
            "25%      2004.000000\n",
            "50%      2016.000000\n",
            "75%      2020.000000\n",
            "max      2020.000000\n",
            "Name: year, dtype: float64 \n",
            "\n"
          ]
        }
      ]
    },
    {
      "cell_type": "code",
      "source": [
        "# County Name\n",
        "print(df['county_name'].unique(), '\\n')\n",
        "print(df['county_name'].value_counts(), '\\n')\n",
        "print(df['county_name'].describe() , '\\n')"
      ],
      "metadata": {
        "colab": {
          "base_uri": "https://localhost:8080/"
        },
        "id": "BviznZQlZllx",
        "outputId": "fd238300-f931-4d08-8c57-60b69072388c"
      },
      "execution_count": null,
      "outputs": [
        {
          "output_type": "stream",
          "name": "stdout",
          "text": [
            "['ACCOMACK' 'ALBEMARLE' 'ALLEGHANY' 'AMELIA' 'AMHERST' 'APPOMATTOX'\n",
            " 'ARLINGTON' 'AUGUSTA' 'BATH' 'BEDFORD' 'BLAND' 'BOTETOURT' 'BRUNSWICK'\n",
            " 'BUCHANAN' 'BUCKINGHAM' 'CAMPBELL' 'CAROLINE' 'CARROLL' 'CHARLES CITY'\n",
            " 'CHARLOTTE' 'CHESTERFIELD' 'CLARKE' 'CRAIG' 'CULPEPER' 'CUMBERLAND'\n",
            " 'DICKENSON' 'DINWIDDIE' 'ESSEX' 'FAIRFAX' 'FAUQUIER' 'FLOYD' 'FLUVANNA'\n",
            " 'FRANKLIN' 'FREDERICK' 'GILES' 'GLOUCESTER' 'GOOCHLAND' 'GRAYSON'\n",
            " 'GREENE' 'GREENSVILLE' 'HALIFAX' 'HANOVER' 'HENRICO' 'HENRY' 'HIGHLAND'\n",
            " 'ISLE OF WIGHT' 'JAMES CITY' 'KING AND QUEEN' 'KING GEORGE'\n",
            " 'KING WILLIAM' 'LANCASTER' 'LEE' 'LOUDOUN' 'LOUISA' 'LUNENBURG' 'MADISON'\n",
            " 'MATHEWS' 'MECKLENBURG' 'MIDDLESEX' 'MONTGOMERY' 'NELSON' 'NEW KENT'\n",
            " 'NORTHAMPTON' 'NORTHUMBERLAND' 'NOTTOWAY' 'ORANGE' 'PAGE' 'PATRICK'\n",
            " 'PITTSYLVANIA' 'POWHATAN' 'PRINCE EDWARD' 'PRINCE GEORGE'\n",
            " 'PRINCE WILLIAM' 'PULASKI' 'RAPPAHANNOCK' 'RICHMOND' 'ROANOKE'\n",
            " 'ROCKBRIDGE' 'ROCKINGHAM' 'RUSSELL' 'SCOTT' 'SHENANDOAH' 'SMYTH'\n",
            " 'SOUTHAMPTON' 'SPOTSYLVANIA' 'STAFFORD' 'SURRY' 'SUSSEX' 'TAZEWELL'\n",
            " 'WARREN' 'WASHINGTON' 'WESTMORELAND' 'WISE' 'WYTHE' 'YORK' 'ALEXANDRIA'\n",
            " 'BRISTOL' 'BUENA VISTA' 'CHARLOTTESVILLE' 'CHESAPEAKE' 'COLONIAL HEIGHTS'\n",
            " 'COVINGTON' 'DANVILLE' 'EMPORIA' 'FALLS CHURCH' 'FREDERICKSBURG' 'GALAX'\n",
            " 'HAMPTON' 'HARRISONBURG' 'HOPEWELL' 'LEXINGTON' 'LYNCHBURG' 'MANASSAS'\n",
            " 'MANASSAS PARK' 'MARTINSVILLE' 'NEWPORT NEWS' 'NORFOLK' 'NORTON'\n",
            " 'PETERSBURG' 'POQUOSON' 'PORTSMOUTH' 'RADFORD' 'SALEM' 'STAUNTON'\n",
            " 'SUFFOLK' 'VIRGINIA BEACH' 'WAYNESBORO' 'WILLIAMSBURG' 'WINCHESTER'\n",
            " 'ALEXANDRIA CITY' 'BRISTOL CITY' 'BUENA VISTA CITY'\n",
            " 'CHARLOTTESVILLE CITY' 'CHESAPEAKE CITY' 'COLONIAL HEIGHTS CITY'\n",
            " 'COVINGTON CITY' 'DANVILLE CITY' 'EMPORIA CITY' 'FAIRFAX CITY'\n",
            " 'FALLS CHURCH CITY' 'FRANKLIN CITY' 'FREDERICKSBURG CITY' 'GALAX CITY'\n",
            " 'HAMPTON CITY' 'HARRISONBURG CITY' 'HOPEWELL CITY' 'LEXINGTON CITY'\n",
            " 'LYNCHBURG CITY' 'MANASSAS CITY' 'MANASSAS PARK CITY' 'MARTINSVILLE CITY'\n",
            " 'NEWPORT NEWS CITY' 'NORFOLK CITY' 'NORTON CITY' 'PETERSBURG CITY'\n",
            " 'POQUOSON CITY' 'PORTSMOUTH CITY' 'RADFORD CITY' 'RICHMOND CITY'\n",
            " 'ROANOKE CITY' 'SALEM CITY' 'STAUNTON CITY' 'SUFFOLK CITY'\n",
            " 'VIRGINIA BEACH CITY' 'WAYNESBORO CITY' 'WILLIAMSBURG CITY'\n",
            " 'WINCHESTER CITY'] \n",
            "\n",
            "county_name\n",
            "FAIRFAX              44\n",
            "RICHMOND             44\n",
            "ROANOKE              44\n",
            "FRANKLIN             44\n",
            "BEDFORD              44\n",
            "                     ..\n",
            "GALAX CITY           12\n",
            "HAMPTON CITY         12\n",
            "HARRISONBURG CITY    12\n",
            "WINCHESTER CITY      12\n",
            "NORTON CITY           8\n",
            "Name: count, Length: 167, dtype: int64 \n",
            "\n",
            "count        3736\n",
            "unique        167\n",
            "top       FAIRFAX\n",
            "freq           44\n",
            "Name: county_name, dtype: object \n",
            "\n"
          ]
        }
      ]
    },
    {
      "cell_type": "code",
      "source": [
        "# Party\n",
        "print(df['party'].unique(), '\\n')\n",
        "print(df['party'].value_counts(), '\\n')\n",
        "print(df['party'].describe() , '\\n')"
      ],
      "metadata": {
        "colab": {
          "base_uri": "https://localhost:8080/"
        },
        "id": "C_K4I6gYZrt5",
        "outputId": "0cf80aaf-dd41-4c51-c266-7cd4f4f884fc"
      },
      "execution_count": null,
      "outputs": [
        {
          "output_type": "stream",
          "name": "stdout",
          "text": [
            "['DEMOCRAT' 'REPUBLICAN' 'GREEN' 'OTHER' 'LIBERTARIAN'] \n",
            "\n",
            "party\n",
            "DEMOCRAT       1068\n",
            "REPUBLICAN     1068\n",
            "OTHER          1068\n",
            "LIBERTARIAN     398\n",
            "GREEN           134\n",
            "Name: count, dtype: int64 \n",
            "\n",
            "count         3736\n",
            "unique           5\n",
            "top       DEMOCRAT\n",
            "freq          1068\n",
            "Name: party, dtype: object \n",
            "\n"
          ]
        }
      ]
    },
    {
      "cell_type": "code",
      "source": [
        "# Candidate Votes\n",
        "print(df['candidatevotes'].unique(), '\\n')\n",
        "print(df['candidatevotes'].value_counts(), '\\n')\n",
        "print(df['candidatevotes'].describe() , '\\n')\n",
        "print(\"Total Missing: \\n\",sum(df['candidatevotes'].isnull()))"
      ],
      "metadata": {
        "colab": {
          "base_uri": "https://localhost:8080/"
        },
        "id": "nic7HxC0aG9A",
        "outputId": "4473af7f-427f-4432-d3b1-5b3ad8f70708"
      },
      "execution_count": null,
      "outputs": [
        {
          "output_type": "stream",
          "name": "stdout",
          "text": [
            "[5092 6352  220 ... 5093 1466 2825] \n",
            "\n",
            "candidatevotes\n",
            "0        198\n",
            "1         55\n",
            "2         35\n",
            "5         28\n",
            "3         27\n",
            "        ... \n",
            "5888       1\n",
            "4473       1\n",
            "1918       1\n",
            "20912      1\n",
            "2825       1\n",
            "Name: count, Length: 2226, dtype: int64 \n",
            "\n",
            "count      3736.000000\n",
            "mean       5878.282120\n",
            "std       18452.435802\n",
            "min           0.000000\n",
            "25%          59.000000\n",
            "50%         899.000000\n",
            "75%        4548.250000\n",
            "max      355133.000000\n",
            "Name: candidatevotes, dtype: float64 \n",
            "\n",
            "Total Missing: \n",
            " 0\n"
          ]
        }
      ]
    },
    {
      "cell_type": "code",
      "source": [
        "# Total Votes\n",
        "print(df['totalvotes'].unique(), '\\n')\n",
        "print(df['totalvotes'].value_counts(), '\\n')\n",
        "print(df['totalvotes'].describe() , '\\n')\n",
        "print(\"Total Missing: \\n\",sum(df['totalvotes'].isnull()))"
      ],
      "metadata": {
        "colab": {
          "base_uri": "https://localhost:8080/"
        },
        "id": "4z_sh6LVatPZ",
        "outputId": "648d406a-c43f-4f53-9e01-920c5129e08a"
      },
      "execution_count": null,
      "outputs": [
        {
          "output_type": "stream",
          "name": "stdout",
          "text": [
            "[ 11925  36846   5123   4788  11712   5927  83559  25271   2210  26149\n",
            "   2688  13840   5997   9856   5454  20327   8351  11001   3066   4994\n",
            " 110951   5284   2493  12244   3507   7226   9136   3831 413775  23481\n",
            "   5739   8706  18829  22392   6820  13699   8777   6852   5412   3906\n",
            "  14072  41585 114252  21463   1437  12950  24492   2859   5852   5769\n",
            "   5455   8748  75653  10096   4591   5027   4609  11654   4689  27160\n",
            "   6145   6114   4892   5605   5492  10483   7996   7385  24255   9711\n",
            "   6363  10900 100511  12697   3513   2949  42817   7827  23994  10792\n",
            "   9335  14452  11740   6714  35021  34246   3230  16344  11166  20222\n",
            "   6026  13310  10225  24583  55199   2441   6279   1975  13224  74585\n",
            "   7782   2214  18307   2080   9556   5593   3191   6681   2213  47887\n",
            "   9958   6978   2140  23506  12410   2580   5694  57825  61946   1530\n",
            "  11062   5861  35455   4448  65926  33442  10770   8514  24661 149771\n",
            "   7102   3725   7886  13356  43726   7195   5397  12695   6655  94650\n",
            "  29704   2282  31404   2865  15797   6926   9829   6027  22997   9954\n",
            "  12128   3439   5438 133814   6505   2621  15605   4126   7406  10839\n",
            "   4344 461379  29915   6734  10957  22223  28540   7498  16333  10338\n",
            "   7137   6939   4258  14656  49611 133418  23458   1520  15871  31090\n",
            "   3286   7921   6872   6230   9770 108430  12035   5245   5772   5129\n",
            "  12780   5377  31515   7139   7946   5499   6409   6030  12928   9603\n",
            "   8215  27417  12163   7316  13254 132063  14251   4050   3361  46973\n",
            "   9181  29216  11423   9967  17146  12319   7492  45445  45986   3522\n",
            "   4345  17480  14068  22514   6848  14312  11554  29880  61515   2542\n",
            "   6724   2389  15450  91541   8231   2301  19112   2221  10546   6098\n",
            "   3536   7542   2335  55741  11030   7936   2349  26340  12903   3332\n",
            "   5603  67952  70570   1504  11949   6480  39534   4845  74325  36000\n",
            "  11484   9629  32189 175687   7963   4320   9343  15623  50984   7369\n",
            "   6529  14700   7630 110153  33338   2432  35830   2959  17406   7914\n",
            "   8734   6994  25814  12919  12579   4153   6157 162088   7431  19741\n",
            "   4724   6753  12892   5364 516254  34219   7516  12735  25401  33612\n",
            "   7795  19222  12562   7220   8260   4887  16850  56248 154966  25215\n",
            "   1554  19997  38603   3705  10474   8388   6938   9227 139459  15353\n",
            "   5650   6699   5440  15082   6006  40653   8133   9991   6586   6988\n",
            "  15801  10389   8531  30433  14456   9388  16006 162446  15050   4405\n",
            "   3745  50975  10195  33334  11494   9875  19223  12302   9067  54069\n",
            "  55455   4325   5363  17061  16126  24500   8377  14138  12491  33897\n",
            "  70364   2734   7359   2423  20044 107521   8849   2354  20890   2617\n",
            "  11398   6750   4427   9677   2402  67943  14675   9524   2479  34341\n",
            "  13627   4140   6520  81295  88446   1512  15540   7065  46665   5429\n",
            "  93085  40772  12406  11015  39908 201249   8860   6787  10126  16051\n",
            "  53907   7173   6915  14970   7935 117608  33672   2223  37425   2948\n",
            "  18241   8037   9646   7457  25696  13652  12918   4232   5898 170988\n",
            "   7762   2667  20211   5048   6904  13589   5675 529287  35555   7644\n",
            "  12749  26707  36394   7558  19283  13315   7121   9023   4926  16692\n",
            "  59058 162241  24963   1413  20827  41240   3655  11325   8923   6961\n",
            "   9598 160060  16452   5734   6614   5374  15077   6080  41009   8250\n",
            "  10953   6491   6846  16354  10228   8259  30681  15525   9239  16046\n",
            " 180195  14680   4357   3770  51217  10177  34866  12088   9992  19373\n",
            "  12777   9264  57974  60583   4308  17732  16698  25632   8120  15018\n",
            "  12358  33953  73411   2805   7387   2526  21797 110425   8624   2330\n",
            "  20204   2696  11629   7276   4360  11437   2277  66490  15593   9031\n",
            "   2687  36448  15200   4656   6284  79444  87043   1492  15908   7106\n",
            "  45922   5399  97569  40155  12318  11210  42566 196641   8791   7748\n",
            "  10296  15818  56726   7325   7040  15396   8011 121356  36343   2253\n",
            "  42525   3139  18739   7669   9247   7295  27535  14863  13668   4107\n",
            "   5808 176461   8213   2794  22218   4906   6440  13575   5408 551183\n",
            "  37467   8051  13597  26971  40440   8212  19619  14037   7285   9608\n",
            "   4363  17001  62753 163654  24106   1391  21075  43173   3697  12059\n",
            "   9161   6645   9399 183097  17631   5586   6979   5311  14945   6017\n",
            "  43031   8318  12242   6172   7398   6744  17270  10740   8525  31598\n",
            "  16900   9143  16184 196538  15167   4483   3661  51489  10795  37487\n",
            "  12246  10100  20513  12890   8878  62562  65934   4228   5044  18566\n",
            "  17960  25847   8574  15163  13343  34118  75770      0   7032   2407\n",
            "  22472 112705   8457   2382  18952   2367  12030   7757   4070  11264\n",
            "   2376  62356  17993   9008   2465  35671  15411   5232   5907  75715\n",
            "  83388   1460  13786   7177  43265   6085 103484  39466  12225  11255\n",
            "  43240 203262   9204   7626  10667  16962  64657   8203   7894  17005\n",
            "   9268 130739  42278   2501  48669   3479  21123   7948   9957   8129\n",
            "  29901  16288  15657   4441   6191 203955   9337   3170  27116   5313\n",
            "   7307  15092   6178 601243  43671   9412  15846  48718   9178  22284\n",
            "  16952   8131  11313   4574  18248  70988 183299  26105   1533  23456\n",
            "  49639   4115  14227  10737   7152   9947 224976  21916   6002   5829\n",
            "  16207   6785  45037   9318  14471   6732   7815   7078  20754  12514\n",
            "   9535  34227  19733   9575  17439 228267  17386   4979   4102  57226\n",
            "  12377  43821  13386  10869  23684  14136   9786  75317  79629   4471\n",
            "   5088  20152  21147  28693   9948  16615  15073  38791  82521   7814\n",
            "   2776  24213 127246   9160   2603  19456   2384  13487   8819   4064\n",
            "  12877   2639  65957  17093   9628   2764  36364  16978   6088   6024\n",
            "  81270  89988   1601  14133   7857  44601   6320 111181  43323  13051\n",
            "  12992  49642 227717  10717   6890  12113] \n",
            "\n",
            "totalvotes\n",
            "29704    15\n",
            "8133     15\n",
            "18248    12\n",
            "49639    12\n",
            "23456    12\n",
            "         ..\n",
            "33897     3\n",
            "70364     3\n",
            "2734      3\n",
            "7359      3\n",
            "10126     3\n",
            "Name: count, Length: 796, dtype: int64 \n",
            "\n",
            "count      3736.000000\n",
            "mean      29116.353587\n",
            "std       58562.057257\n",
            "min           0.000000\n",
            "25%        6741.500000\n",
            "50%       11629.000000\n",
            "75%       24520.750000\n",
            "max      601243.000000\n",
            "Name: totalvotes, dtype: float64 \n",
            "\n",
            "Total Missing: \n",
            " 0\n"
          ]
        }
      ]
    },
    {
      "cell_type": "code",
      "source": [
        "# Mode\n",
        "print(df['mode'].unique(), '\\n')\n",
        "print(df['mode'].value_counts(), '\\n')\n",
        "print(df['mode'].describe() , '\\n')\n",
        "print(\"Total Missing: \\n\",sum(df['mode'].isnull()))"
      ],
      "metadata": {
        "colab": {
          "base_uri": "https://localhost:8080/"
        },
        "id": "yFPDrD1ca9pq",
        "outputId": "cca8b5b1-433a-4c0f-d17c-e261834ff7eb"
      },
      "execution_count": null,
      "outputs": [
        {
          "output_type": "stream",
          "name": "stdout",
          "text": [
            "['TOTAL' 'ABSENTEE' 'ELECTION DAY' 'PROVISIONAL'] \n",
            "\n",
            "mode\n",
            "TOTAL           2144\n",
            "ELECTION DAY     532\n",
            "PROVISIONAL      532\n",
            "ABSENTEE         528\n",
            "Name: count, dtype: int64 \n",
            "\n",
            "count      3736\n",
            "unique        4\n",
            "top       TOTAL\n",
            "freq       2144\n",
            "Name: mode, dtype: object \n",
            "\n",
            "Total Missing: \n",
            " 0\n"
          ]
        }
      ]
    },
    {
      "cell_type": "code",
      "source": [
        "sns.kdeplot(data=df, x='candidatevotes', hue='party')"
      ],
      "metadata": {
        "id": "YVaBO5Elb-AU",
        "colab": {
          "base_uri": "https://localhost:8080/",
          "height": 590
        },
        "outputId": "e1305237-e158-4de0-d619-cc5dc4e1933c"
      },
      "execution_count": 21,
      "outputs": [
        {
          "output_type": "stream",
          "name": "stderr",
          "text": [
            "/usr/local/lib/python3.10/dist-packages/seaborn/_base.py:949: FutureWarning: When grouping with a length-1 list-like, you will need to pass a length-1 tuple to get_group in a future version of pandas. Pass `(name,)` instead of `name` to silence this warning.\n",
            "  data_subset = grouped_data.get_group(pd_key)\n",
            "/usr/local/lib/python3.10/dist-packages/seaborn/_base.py:949: FutureWarning: When grouping with a length-1 list-like, you will need to pass a length-1 tuple to get_group in a future version of pandas. Pass `(name,)` instead of `name` to silence this warning.\n",
            "  data_subset = grouped_data.get_group(pd_key)\n",
            "/usr/local/lib/python3.10/dist-packages/seaborn/_base.py:949: FutureWarning: When grouping with a length-1 list-like, you will need to pass a length-1 tuple to get_group in a future version of pandas. Pass `(name,)` instead of `name` to silence this warning.\n",
            "  data_subset = grouped_data.get_group(pd_key)\n"
          ]
        },
        {
          "output_type": "execute_result",
          "data": {
            "text/plain": [
              "<Axes: xlabel='candidatevotes', ylabel='Density'>"
            ]
          },
          "metadata": {},
          "execution_count": 21
        },
        {
          "output_type": "display_data",
          "data": {
            "text/plain": [
              "<Figure size 640x480 with 1 Axes>"
            ],
            "image/png": "[encoded data removed]"
          },
          "metadata": {}
        }
      ]
    },
    {
      "cell_type": "code",
      "source": [
        "df['candidatevotes_log'] = np.log(df['candidatevotes'])\n",
        "sns.kdeplot(data=df, x='candidatevotes_log', hue='party', fill=True)"
      ],
      "metadata": {
        "colab": {
          "base_uri": "https://localhost:8080/",
          "height": 626
        },
        "id": "quOjMXdKeM06",
        "outputId": "81bc33b3-06ce-480a-af0f-31e014668c97"
      },
      "execution_count": 24,
      "outputs": [
        {
          "output_type": "stream",
          "name": "stderr",
          "text": [
            "/usr/local/lib/python3.10/dist-packages/pandas/core/arraylike.py:399: RuntimeWarning: divide by zero encountered in log\n",
            "  result = getattr(ufunc, method)(*inputs, **kwargs)\n",
            "/usr/local/lib/python3.10/dist-packages/seaborn/_base.py:949: FutureWarning: When grouping with a length-1 list-like, you will need to pass a length-1 tuple to get_group in a future version of pandas. Pass `(name,)` instead of `name` to silence this warning.\n",
            "  data_subset = grouped_data.get_group(pd_key)\n",
            "/usr/local/lib/python3.10/dist-packages/seaborn/_base.py:949: FutureWarning: When grouping with a length-1 list-like, you will need to pass a length-1 tuple to get_group in a future version of pandas. Pass `(name,)` instead of `name` to silence this warning.\n",
            "  data_subset = grouped_data.get_group(pd_key)\n",
            "/usr/local/lib/python3.10/dist-packages/seaborn/_base.py:949: FutureWarning: When grouping with a length-1 list-like, you will need to pass a length-1 tuple to get_group in a future version of pandas. Pass `(name,)` instead of `name` to silence this warning.\n",
            "  data_subset = grouped_data.get_group(pd_key)\n"
          ]
        },
        {
          "output_type": "execute_result",
          "data": {
            "text/plain": [
              "<Axes: xlabel='candidatevotes_log', ylabel='Density'>"
            ]
          },
          "metadata": {},
          "execution_count": 24
        },
        {
          "output_type": "display_data",
          "data": {
            "text/plain": [
              "<Figure size 640x480 with 1 Axes>"
            ],
            "image/png": "[encoded data removed]"
          },
          "metadata": {}
        }
      ]
    },
    {
      "cell_type": "code",
      "source": [
        "sns.barplot(data=df, x='year', y='totalvotes')"
      ],
      "metadata": {
        "colab": {
          "base_uri": "https://localhost:8080/",
          "height": 466
        },
        "id": "-YLPVFgqiFZn",
        "outputId": "8b678ebc-4097-4e9d-d4a9-65db685285ee"
      },
      "execution_count": 25,
      "outputs": [
        {
          "output_type": "execute_result",
          "data": {
            "text/plain": [
              "<Axes: xlabel='year', ylabel='totalvotes'>"
            ]
          },
          "metadata": {},
          "execution_count": 25
        },
        {
          "output_type": "display_data",
          "data": {
            "text/plain": [
              "<Figure size 640x480 with 1 Axes>"
            ],
            "image/png": "[encoded data removed]"
          },
          "metadata": {}
        }
      ]
    }
  ]
}